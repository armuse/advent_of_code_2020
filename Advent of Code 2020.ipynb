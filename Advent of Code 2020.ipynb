{
 "cells": [
  {
   "cell_type": "code",
   "execution_count": null,
   "metadata": {},
   "outputs": [],
   "source": [
    "file1 = open('Aoc1.txt', 'r') \n",
    "nums = file1.readlines()\n",
    "nums = [int(num.strip()) for num in nums]"
   ]
  },
  {
   "cell_type": "code",
   "execution_count": null,
   "metadata": {},
   "outputs": [],
   "source": [
    "for i, num in enumerate(nums):\n",
    "    for j, nom in enumerate(nums):\n",
    "        if i != j:\n",
    "            if 2020-num == nom:\n",
    "                print(num*nom)"
   ]
  },
  {
   "cell_type": "code",
   "execution_count": null,
   "metadata": {},
   "outputs": [],
   "source": [
    "for num in nums:\n",
    "    for nom in nums:\n",
    "        for nam in nums:\n",
    "            if num + nom + nam == 2020:\n",
    "                print(num*nom*nam)"
   ]
  },
  {
   "cell_type": "code",
   "execution_count": null,
   "metadata": {},
   "outputs": [],
   "source": [
    "import re\n",
    "file2 = open('Aoc2.txt', 'r') \n",
    "passcodes = file2.readlines()\n",
    "passcode = [passcode.strip() for passcode in passcodes]"
   ]
  },
  {
   "cell_type": "code",
   "execution_count": null,
   "metadata": {},
   "outputs": [],
   "source": [
    "count = 0\n",
    "for line in passcode:\n",
    "    minimum = int(re.search(r'\\d+',line).group(0))\n",
    "    maximum = int(re.search(r'-\\d+',line).group(0)[1:])\n",
    "    char = re.search(r'\\w:',line).group(0)[0]\n",
    "    password = ''.join(sorted(re.search(r': \\w+',line).group(0)[2:]))\n",
    "    chars = re.search(char+'+',password)\n",
    "    if chars:\n",
    "        n = len(chars.group(0))\n",
    "        if n >= minimum and n <= maximum:\n",
    "            count += 1\n",
    "count"
   ]
  },
  {
   "cell_type": "code",
   "execution_count": null,
   "metadata": {},
   "outputs": [],
   "source": [
    "count = 0\n",
    "for line in passcode:\n",
    "    p1 = int(re.search(r'\\d+',line).group(0))\n",
    "    p2 = int(re.search(r'-\\d+',line).group(0)[1:])\n",
    "    char = re.search(r'\\w:',line).group(0)[0]\n",
    "    password = re.search(r': \\w+',line).group(0)[2:]\n",
    "    if password:\n",
    "        if len(password) < p1-1:\n",
    "            continue\n",
    "        elif len(password) < p2-1 :\n",
    "            if password[p1-1] == char: \n",
    "                count += 1\n",
    "        elif not (password[p1-1] == char) != (not (password[p2-1] == char)): #fastest logical or\n",
    "            count += 1\n",
    "count"
   ]
  },
  {
   "cell_type": "code",
   "execution_count": null,
   "metadata": {},
   "outputs": [],
   "source": [
    "file3 = open('Aoc3.txt','r')\n",
    "lines = file3.readlines()\n",
    "lines = [line.strip() for line in lines]"
   ]
  },
  {
   "cell_type": "code",
   "execution_count": null,
   "metadata": {},
   "outputs": [],
   "source": [
    "def tobaggon_ride(path, lines):\n",
    "    curr = [0,0]\n",
    "    divisor = len(lines[0])\n",
    "    offset = 0\n",
    "    trees = 0\n",
    "    for i, row in enumerate(lines): #enumerate etc if descent faster than 1 row at a time\n",
    "        if i == 0: continue\n",
    "        if i % path[1] == 0:\n",
    "            curr[0] += path[0]\n",
    "            curr[1] += 1\n",
    "            if curr[1] % divisor == 0:\n",
    "                offset += 1\n",
    "            #print(curr, curr[0]%divisor, row[(curr[0]%divisor) - offset])\n",
    "            if row[curr[0]%divisor] == '#':\n",
    "                trees += 1\n",
    "    return trees"
   ]
  },
  {
   "cell_type": "code",
   "execution_count": null,
   "metadata": {},
   "outputs": [],
   "source": [
    "print(tobaggon_ride((3,1), lines))\n",
    "\n",
    "paths = [(3,1),(1,1),(5,1),(7,1),(1,2)]\n",
    "out = 1\n",
    "for path in paths:\n",
    "    out *= tobaggon_ride(path, lines)\n",
    "out"
   ]
  },
  {
   "cell_type": "code",
   "execution_count": null,
   "metadata": {},
   "outputs": [],
   "source": [
    "file4 = open('Aoc4.txt','r')\n",
    "lines = file4.readlines()\n",
    "lines = [line.strip() for line in lines]"
   ]
  },
  {
   "cell_type": "code",
   "execution_count": null,
   "metadata": {},
   "outputs": [],
   "source": [
    "valid = 0\n",
    "req_fields = sorted(['byr','iyr','eyr','hgt','hcl','ecl','pid'])\n",
    "invalid = False\n",
    "passport_container = []\n",
    "for i,line in enumerate(lines):\n",
    "    if line != '':\n",
    "        passport = re.findall(r'.*?(byr|iyr|eyr|hgt|hcl|ecl|pid|cid):.*?',line)\n",
    "        byr = re.search(r'byr: \\w+', line)\n",
    "        \n",
    "        if byr: print(byr.group(0))\n",
    "        passport_container.extend(passport)\n",
    "        #print(passport_container)\n",
    "        #else: print('too few fields')\n",
    "    if i == len(lines)-1 or line == '':\n",
    "        #print(sorted(passport_container))\n",
    "        if len(passport_container) > 6:\n",
    "            for field in req_fields:\n",
    "                if field not in passport_container:\n",
    "                    invalid = True\n",
    "            if not invalid: \n",
    "                valid += 1\n",
    "                passport_container = []\n",
    "                invalid = False\n",
    "        passport_container = []\n",
    "        invalid = False\n",
    "valid"
   ]
  },
  {
   "cell_type": "code",
   "execution_count": null,
   "metadata": {},
   "outputs": [],
   "source": [
    "class passport():\n",
    "    def __init__(self,byr,iyr,eyr,hgt,hcl,ecl,pid):\n",
    "        self.byr = byr\n",
    "        self.iyr = iyr\n",
    "        self.eyr = eyr\n",
    "        self.hgt = hgt\n",
    "        self.hcl = hcl\n",
    "        self.ecl = ecl\n",
    "        self.pid = pid\n",
    "        self.cid = cid\n",
    "    def checkValidity(self):\n",
    "        if int(self.byr) < 1920 or int(self.byr) > 2002:\n",
    "            return False\n",
    "        if int(self.iyr) < 2010 or int(self.iyr) > 2020:\n",
    "            return False\n",
    "        if int(self.eyr) < 2020 or int(self.eyr) > 2030:\n",
    "            return False\n",
    "        if self.hgt[-2:] == 'cm':\n",
    "            height = int(self.hgt[:-2])\n",
    "            if height < 150 or height > 193:\n",
    "                return False\n",
    "        elif self.hgt[-2:] == 'in':\n",
    "            height = int(self.hgt[:-2])\n",
    "            if height < 59 or height > 76:\n",
    "                return False\n",
    "        else: return False #no cm/in\n",
    "        if not re.match(r'#[0-9a-f]{6}',self.hcl):\n",
    "            return False\n",
    "        if not re.match(r'(amb|blu|brn|gry|grn|hzl|oth)',self.ecl):\n",
    "            return False\n",
    "        if not re.match(r'\\d{9}',self.pid):\n",
    "            return False\n",
    "        return True"
   ]
  },
  {
   "cell_type": "code",
   "execution_count": null,
   "metadata": {},
   "outputs": [],
   "source": [
    "pass_dict = {}\n",
    "valid = 0\n",
    "req_fields = sorted(['byr','iyr','eyr','hgt','hcl','ecl','pid'])\n",
    "for i,line in enumerate(lines):\n",
    "    if line != '':\n",
    "        byr = re.search(r'byr:.*?\\w+', line)\n",
    "        if byr: \n",
    "            pass_dict.update({'byr':byr[0][4:]}) \n",
    "        iyr = re.search(r'iyr:.*?\\w+', line)\n",
    "        if iyr: \n",
    "            pass_dict.update({'iyr':iyr[0][4:]})\n",
    "        eyr = re.search(r'eyr:.*?\\w+', line)\n",
    "        if eyr:\n",
    "            pass_dict.update({'eyr':eyr[0][4:]})\n",
    "        hgt = re.search(r'hgt:.*?\\w+', line)\n",
    "        if hgt:\n",
    "            pass_dict.update({'hgt':hgt[0][4:]})\n",
    "        hcl = re.search(r'hcl:.*?\\w+', line)\n",
    "        if hcl:\n",
    "            pass_dict.update({'hcl':hcl[0][4:]})\n",
    "        ecl = re.search(r'ecl:.*?\\w+', line)\n",
    "        if ecl:\n",
    "            pass_dict.update({'ecl':ecl[0][4:]})\n",
    "        pid = re.search(r'pid:.*?\\w+', line)\n",
    "        if pid:\n",
    "            pass_dict.update({'pid':pid[0][4:]})\n",
    "        cid = re.search(r'cid:.*?\\w+', line)\n",
    "        if cid:\n",
    "            pass_dict.update({'cid':cid[0][4:]})\n",
    "    if i == len(lines)-1 or line == '':\n",
    "        if len(pass_dict) > 6:\n",
    "            pass_keys = pass_dict.keys()\n",
    "            for field in req_fields:\n",
    "                if field not in pass_keys:\n",
    "                    invalid = True\n",
    "            if not invalid: \n",
    "                passport_container = []\n",
    "                invalid = False\n",
    "                doc = passport(pass_dict['byr'],pass_dict['iyr'],pass_dict['eyr'],\n",
    "                              pass_dict['hgt'],pass_dict['hcl'],pass_dict['ecl'],\n",
    "                              pass_dict['pid'])\n",
    "                check = doc.checkValidity()\n",
    "                if check:\n",
    "                    valid += 1\n",
    "        pass_dict.clear()\n",
    "        invalid = False\n",
    "valid"
   ]
  },
  {
   "cell_type": "code",
   "execution_count": null,
   "metadata": {},
   "outputs": [],
   "source": [
    "file5 = open('Aoc5.txt','r')\n",
    "lines = file5.readlines()\n",
    "lines = [line.strip() for line in lines]"
   ]
  }
 ],
 "metadata": {
  "kernelspec": {
   "display_name": "Python 3",
   "language": "python",
   "name": "python3"
  },
  "language_info": {
   "codemirror_mode": {
    "name": "ipython",
    "version": 3
   },
   "file_extension": ".py",
   "mimetype": "text/x-python",
   "name": "python",
   "nbconvert_exporter": "python",
   "pygments_lexer": "ipython3",
   "version": "3.8.3"
  }
 },
 "nbformat": 4,
 "nbformat_minor": 4
}
